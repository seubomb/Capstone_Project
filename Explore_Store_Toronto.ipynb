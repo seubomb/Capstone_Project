{
    "nbformat_minor": 1, 
    "cells": [
        {
            "source": "# New Store Business in Toronto", 
            "cell_type": "markdown", 
            "metadata": {
                "collapsed": true
            }
        }, 
        {
            "source": "## Introduction/Business Problem", 
            "cell_type": "markdown", 
            "metadata": {}
        }, 
        {
            "source": "Our client is a commercial group (family business) and its current business focuses on various stores across North America, such as Clothing Stores, Health Food Stores, Beer \nStores, etc. The client/company wants to expand its business into Toronto city and our goal is to define the right business \nexpansion strategy for the company.\n\n* What kind of business/store should the company consider in order to achieve the most possible success? \n* Which district in Toronto city should the Store be located? \n\n![Image of Store Type](http://2bsiwtsz6ylibiex20hddm1c-wpengine.netdna-ssl.com/wp-content/uploads/2013/04/mapoftorontoneighbourhoods.jpg)\n<center>the Best Neighborhoods to do Business in Toronto By iQ Office Suites</center>", 
            "cell_type": "markdown", 
            "metadata": {}
        }, 
        {
            "source": "## Data acquisition and processing", 
            "cell_type": "markdown", 
            "metadata": {}
        }, 
        {
            "source": "We have already generated the venue matrix of Toronto city using Foursquaresoup API and data scraped from the wikipedia webpage:", 
            "cell_type": "markdown", 
            "metadata": {}
        }, 
        {
            "source": "https://developer.foursquare.com/places-api\n\nhttps://en.wikipedia.org/wiki/List_of_postal_codes_of_Canada:_M", 
            "cell_type": "markdown", 
            "metadata": {}
        }, 
        {
            "source": "We can process the venue matrix and group rows by neighborhood and by taking the sum of the frequency of occurrence of each category.\nBy adding the frequency of ocurrence of each store type in different districts, we can get the total number for each store type in Toronto city.\nOnce we have the distribution of store type, we can suggest which type of store is the most common and what kind of store is mostly welcomed recently.", 
            "cell_type": "markdown", 
            "metadata": {}
        }, 
        {
            "source": "From the Statistics of Canada, we can also easily get the data about population census in each district of Toronto.\nBy analyzing the population relationship with different combination of store type, we can define the store type in the exact district to cater for its potential future population growth.", 
            "cell_type": "markdown", 
            "metadata": {}
        }, 
        {
            "source": "## Methodology ", 
            "cell_type": "markdown", 
            "metadata": {}
        }, 
        {
            "source": "", 
            "cell_type": "code", 
            "metadata": {}, 
            "outputs": [], 
            "execution_count": null
        }
    ], 
    "metadata": {
        "kernelspec": {
            "display_name": "Python 3.5", 
            "name": "python3", 
            "language": "python"
        }, 
        "language_info": {
            "mimetype": "text/x-python", 
            "nbconvert_exporter": "python", 
            "version": "3.5.5", 
            "name": "python", 
            "pygments_lexer": "ipython3", 
            "file_extension": ".py", 
            "codemirror_mode": {
                "version": 3, 
                "name": "ipython"
            }
        }
    }, 
    "nbformat": 4
}