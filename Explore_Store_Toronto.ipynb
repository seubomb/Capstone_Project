{
    "nbformat_minor": 1, 
    "cells": [
        {
            "source": "# Explore the Store Business in Toronto", 
            "cell_type": "markdown", 
            "metadata": {
                "collapsed": true
            }
        }, 
        {
            "source": "Introduction/Business Problem section:\n    \nLet's suppose that I'm operating a consulting firm, and recently I have a client which is a commercial group (family business) \nand its current business focuses on various stores across North America, such as Clothing Stores, Health Food Stores, Beer \nStores, etc. The client/company wants to expand its business into Toronto city and my goal is to define the right business \nexpansion strategy. What kind of business/store should the company consider in order to achieve the most possible success? \nWhich district in Toronto city should the Store be located? \n\n", 
            "cell_type": "markdown", 
            "metadata": {}
        }, 
        {
            "source": "Data section:\n\nI will combine the DataFrame scraped from the webpage of Toronto city on wikipedia and the data about population census in \neach district of Toronto from Statistics Canada. The DataFrame is processed and grouped by Neighborhood of each district with sum\nfunction. By comparing the numbers of each store type in Toronto city, I will know what is most popular at current business status\nand what other types of store business is needed. By retrieve data based on Foursquare data API, I can get the most Common Store \ntype in each district. By analyzing the population relationship with different combination of store type, I can define the store type in the district ", 
            "cell_type": "markdown", 
            "metadata": {}
        }
    ], 
    "metadata": {
        "kernelspec": {
            "display_name": "Python 3.5", 
            "name": "python3", 
            "language": "python"
        }, 
        "language_info": {
            "mimetype": "text/x-python", 
            "nbconvert_exporter": "python", 
            "version": "3.5.5", 
            "name": "python", 
            "pygments_lexer": "ipython3", 
            "file_extension": ".py", 
            "codemirror_mode": {
                "version": 3, 
                "name": "ipython"
            }
        }
    }, 
    "nbformat": 4
}